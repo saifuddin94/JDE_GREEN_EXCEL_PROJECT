{
 "cells": [
  {
   "cell_type": "code",
   "execution_count": 2,
   "id": "9fd1d4d3",
   "metadata": {},
   "outputs": [],
   "source": [
    "import tweepy\n",
    "import pandas as pd"
   ]
  },
  {
   "cell_type": "markdown",
   "id": "16d9184c",
   "metadata": {},
   "source": [
    "#### First apply for twitter developer account to retrieve your credentials such as consumer key and secret as well as your access token key and secret."
   ]
  },
  {
   "cell_type": "code",
   "execution_count": 3,
   "id": "1e12d3ad",
   "metadata": {},
   "outputs": [],
   "source": [
    "# Credentials\n",
    "\n",
    "consumer_key = 'frxFyJskSPkPvxiMu8NKUfvX8'\n",
    "\n",
    "consumer_secret = 'tCtujcAsHIZF8TSzDxKCBJbfM75v8vNEzClmuA48nSqpnC0PH0'\n",
    "\n",
    "access_token = '557446265-KT2R47ApGYDLiLMDjbYTQONxhctzAtdhbZRm39SE'\n",
    "\n",
    "access_token_secret = 'nYaLC8D3KzHPcKCRNIoNclAEiMDZ5mROmCqpZZsyheAxb'\n",
    "\n",
    "\n",
    "auth = tweepy.OAuthHandler(consumer_key, consumer_secret)\n",
    "\n",
    "auth.set_access_token(access_token, access_token_secret)\n",
    "\n",
    "api = tweepy.API(auth)"
   ]
  },
  {
   "cell_type": "markdown",
   "id": "c3ab14d5",
   "metadata": {},
   "source": [
    "#### Second, figure out the data information you want to scrape from Twitter. After that, categorise them into different tables. For Green Excel, we have decided to split the data information into three tables. Table One will be profile_info."
   ]
  },
  {
   "cell_type": "code",
   "execution_count": 7,
   "id": "786b226d",
   "metadata": {},
   "outputs": [
    {
     "data": {
      "text/html": [
       "<div>\n",
       "<style scoped>\n",
       "    .dataframe tbody tr th:only-of-type {\n",
       "        vertical-align: middle;\n",
       "    }\n",
       "\n",
       "    .dataframe tbody tr th {\n",
       "        vertical-align: top;\n",
       "    }\n",
       "\n",
       "    .dataframe thead th {\n",
       "        text-align: right;\n",
       "    }\n",
       "</style>\n",
       "<table border=\"1\" class=\"dataframe\">\n",
       "  <thead>\n",
       "    <tr style=\"text-align: right;\">\n",
       "      <th></th>\n",
       "      <th>user_id</th>\n",
       "      <th>user_name</th>\n",
       "      <th>location</th>\n",
       "    </tr>\n",
       "  </thead>\n",
       "  <tbody>\n",
       "    <tr>\n",
       "      <th>0</th>\n",
       "      <td>939091</td>\n",
       "      <td>Joe Biden</td>\n",
       "      <td>Washington, DC</td>\n",
       "    </tr>\n",
       "  </tbody>\n",
       "</table>\n",
       "</div>"
      ],
      "text/plain": [
       "  user_id  user_name        location\n",
       "0  939091  Joe Biden  Washington, DC"
      ]
     },
     "execution_count": 7,
     "metadata": {},
     "output_type": "execute_result"
    }
   ],
   "source": [
    "#This is the information we want to have inside profile_info table.\n",
    "\n",
    "user_id = []\n",
    "user_name = []\n",
    "location = []\n",
    "\n",
    "#Put in all of the screen name from the profile you want to scrape in a list form.\n",
    "\n",
    "name = ['JoeBiden']\n",
    "\n",
    "#Then iterate i inside the name list and append in the list above.\n",
    "\n",
    "for i in name:\n",
    "    user = api.get_user(i)\n",
    "    user_id.append(user.id_str)\n",
    "    user_name.append(user.name)\n",
    "    location.append(user.location)\n",
    "    \n",
    "#Manipulate the list into dataframe\n",
    "    \n",
    "profile_info = pd.DataFrame({'user_id': user_id, 'user_name': user_name, 'location': location})\n",
    "\n",
    "profile_info"
   ]
  },
  {
   "cell_type": "code",
   "execution_count": null,
   "id": "cde62f7d",
   "metadata": {},
   "outputs": [],
   "source": []
  }
 ],
 "metadata": {
  "kernelspec": {
   "display_name": "Python 3 (ipykernel)",
   "language": "python",
   "name": "python3"
  },
  "language_info": {
   "codemirror_mode": {
    "name": "ipython",
    "version": 3
   },
   "file_extension": ".py",
   "mimetype": "text/x-python",
   "name": "python",
   "nbconvert_exporter": "python",
   "pygments_lexer": "ipython3",
   "version": "3.8.11"
  }
 },
 "nbformat": 4,
 "nbformat_minor": 5
}
