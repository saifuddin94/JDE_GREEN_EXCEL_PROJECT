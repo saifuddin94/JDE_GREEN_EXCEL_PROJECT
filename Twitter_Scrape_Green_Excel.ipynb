{
 "cells": [
  {
   "cell_type": "code",
   "execution_count": 2,
   "id": "9fd1d4d3",
   "metadata": {},
   "outputs": [],
   "source": [
    "import tweepy\n",
    "import pandas as pd"
   ]
  },
  {
   "cell_type": "code",
   "execution_count": 3,
   "id": "1e12d3ad",
   "metadata": {},
   "outputs": [],
   "source": [
    "# Credentials\n",
    "\n",
    "consumer_key = 'frxFyJskSPkPvxiMu8NKUfvX8'\n",
    "\n",
    "consumer_secret = 'tCtujcAsHIZF8TSzDxKCBJbfM75v8vNEzClmuA48nSqpnC0PH0'\n",
    "\n",
    "access_token = '557446265-KT2R47ApGYDLiLMDjbYTQONxhctzAtdhbZRm39SE'\n",
    "\n",
    "access_token_secret = 'nYaLC8D3KzHPcKCRNIoNclAEiMDZ5mROmCqpZZsyheAxb'\n",
    "\n",
    "\n",
    "auth = tweepy.OAuthHandler(consumer_key, consumer_secret)\n",
    "\n",
    "auth.set_access_token(access_token, access_token_secret)\n",
    "\n",
    "api = tweepy.API(auth,wait_on_rate_limit=True)"
   ]
  },
  {
   "cell_type": "code",
   "execution_count": 19,
   "id": "b2defe2b",
   "metadata": {},
   "outputs": [
    {
     "name": "stdout",
     "output_type": "stream",
     "text": [
      "Enter user twitter handle: potus\n",
      "\n",
      "The name is : President Biden\n",
      "The screen_name is : POTUS\n",
      "The location is : \n",
      "The profile_location is : None\n",
      "The description is : 46th President of the United States, husband to @FLOTUS, proud dad & pop. Tweets may be archived: https://t.co/IURuMIrzxb\n"
     ]
    }
   ],
   "source": [
    "screen_name = input('Enter user twitter handle: ')\n",
    "\n",
    "user = api.get_user(str(screen_name))\n",
    "\n",
    "print()\n",
    "print(\"The name is : \" + user.name)\n",
    "print(\"The screen_name is : \" + user.screen_name)\n",
    "print(\"The location is : \" + str(user.location))\n",
    "print(\"The profile_location is : \" + str(user.profile_location))\n",
    "print(\"The description is : \" + user.description)"
   ]
  },
  {
   "cell_type": "code",
   "execution_count": null,
   "id": "c01356a3",
   "metadata": {},
   "outputs": [],
   "source": []
  }
 ],
 "metadata": {
  "kernelspec": {
   "display_name": "Python 3 (ipykernel)",
   "language": "python",
   "name": "python3"
  },
  "language_info": {
   "codemirror_mode": {
    "name": "ipython",
    "version": 3
   },
   "file_extension": ".py",
   "mimetype": "text/x-python",
   "name": "python",
   "nbconvert_exporter": "python",
   "pygments_lexer": "ipython3",
   "version": "3.8.11"
  }
 },
 "nbformat": 4,
 "nbformat_minor": 5
}
