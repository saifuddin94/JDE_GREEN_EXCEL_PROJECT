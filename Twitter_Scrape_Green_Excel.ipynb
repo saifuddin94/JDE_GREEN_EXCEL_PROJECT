{
 "cells": [
  {
   "cell_type": "code",
   "execution_count": 35,
   "id": "9fd1d4d3",
   "metadata": {},
   "outputs": [],
   "source": [
    "import tweepy\n",
    "import pandas as pd"
   ]
  },
  {
   "cell_type": "code",
   "execution_count": 36,
   "id": "1e12d3ad",
   "metadata": {},
   "outputs": [],
   "source": [
    "# Credentials\n",
    "\n",
    "consumer_key = 'frxFyJskSPkPvxiMu8NKUfvX8'\n",
    "\n",
    "consumer_secret = 'tCtujcAsHIZF8TSzDxKCBJbfM75v8vNEzClmuA48nSqpnC0PH0'\n",
    "\n",
    "access_token = '557446265-KT2R47ApGYDLiLMDjbYTQONxhctzAtdhbZRm39SE'\n",
    "\n",
    "access_token_secret = 'nYaLC8D3KzHPcKCRNIoNclAEiMDZ5mROmCqpZZsyheAxb'\n",
    "\n",
    "\n",
    "auth = tweepy.OAuthHandler(consumer_key, consumer_secret)\n",
    "\n",
    "auth.set_access_token(access_token, access_token_secret)\n",
    "\n",
    "api = tweepy.API(auth)"
   ]
  },
  {
   "cell_type": "code",
   "execution_count": 102,
   "id": "786b226d",
   "metadata": {},
   "outputs": [
    {
     "data": {
      "text/html": [
       "<div>\n",
       "<style scoped>\n",
       "    .dataframe tbody tr th:only-of-type {\n",
       "        vertical-align: middle;\n",
       "    }\n",
       "\n",
       "    .dataframe tbody tr th {\n",
       "        vertical-align: top;\n",
       "    }\n",
       "\n",
       "    .dataframe thead th {\n",
       "        text-align: right;\n",
       "    }\n",
       "</style>\n",
       "<table border=\"1\" class=\"dataframe\">\n",
       "  <thead>\n",
       "    <tr style=\"text-align: right;\">\n",
       "      <th></th>\n",
       "      <th>user_id</th>\n",
       "      <th>user_name</th>\n",
       "      <th>location</th>\n",
       "    </tr>\n",
       "  </thead>\n",
       "  <tbody>\n",
       "    <tr>\n",
       "      <th>0</th>\n",
       "      <td>557446265</td>\n",
       "      <td>Saifuddin Tasnim</td>\n",
       "      <td>Singapore</td>\n",
       "    </tr>\n",
       "    <tr>\n",
       "      <th>1</th>\n",
       "      <td>939091</td>\n",
       "      <td>Joe Biden</td>\n",
       "      <td>Washington, DC</td>\n",
       "    </tr>\n",
       "    <tr>\n",
       "      <th>2</th>\n",
       "      <td>558797310</td>\n",
       "      <td>Manchester United</td>\n",
       "      <td>Old Trafford, Manchester</td>\n",
       "    </tr>\n",
       "  </tbody>\n",
       "</table>\n",
       "</div>"
      ],
      "text/plain": [
       "     user_id          user_name                  location\n",
       "0  557446265   Saifuddin Tasnim                 Singapore\n",
       "1     939091          Joe Biden            Washington, DC\n",
       "2  558797310  Manchester United  Old Trafford, Manchester"
      ]
     },
     "execution_count": 102,
     "metadata": {},
     "output_type": "execute_result"
    }
   ],
   "source": [
    "user_id = []\n",
    "user_name = []\n",
    "location = []\n",
    "\n",
    "name = ['saifuddintasnim', 'JoeBiden', 'ManUtd']\n",
    "\n",
    "for i in name:\n",
    "    user = api.get_user(i)\n",
    "    user_id.append(user.id_str)\n",
    "    user_name.append(user.name)\n",
    "    location.append(user.location)\n",
    "    \n",
    "profile_info = pd.DataFrame({'user_id': user_id, 'user_name': user_name, 'location': location})\n",
    "\n",
    "profile_info"
   ]
  },
  {
   "cell_type": "code",
   "execution_count": null,
   "id": "cde62f7d",
   "metadata": {},
   "outputs": [],
   "source": []
  }
 ],
 "metadata": {
  "kernelspec": {
   "display_name": "Python 3 (ipykernel)",
   "language": "python",
   "name": "python3"
  },
  "language_info": {
   "codemirror_mode": {
    "name": "ipython",
    "version": 3
   },
   "file_extension": ".py",
   "mimetype": "text/x-python",
   "name": "python",
   "nbconvert_exporter": "python",
   "pygments_lexer": "ipython3",
   "version": "3.8.11"
  }
 },
 "nbformat": 4,
 "nbformat_minor": 5
}
